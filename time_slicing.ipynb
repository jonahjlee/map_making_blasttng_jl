{
 "cells": [
  {
   "cell_type": "code",
   "id": "906fcc4621bdaf0b",
   "metadata": {
    "ExecuteTime": {
     "end_time": "2025-01-20T23:16:46.768160Z",
     "start_time": "2025-01-20T23:16:46.761692Z"
    }
   },
   "source": [
    "import os\n",
    "import numpy as np\n",
    "import matplotlib.pyplot as plt"
   ],
   "outputs": [],
   "execution_count": 2
  },
  {
   "metadata": {},
   "cell_type": "code",
   "source": "time_data = np.load('time_data.npy', allow_pickle=True).item()",
   "id": "ffb516c01af8c6d4",
   "outputs": [],
   "execution_count": null
  },
  {
   "metadata": {
    "collapsed": true,
    "ExecuteTime": {
     "end_time": "2025-01-21T00:12:44.748567Z",
     "start_time": "2025-01-21T00:12:44.690106Z"
    }
   },
   "cell_type": "code",
   "source": [
    "master_time = time_data['time'] + time_data['time_usec'] / 1_000_000  # Master time: 100Hz\n",
    "ctime = lambda r: time_data[f'roach{r}_time']  # Roach time: 476.5Hz"
   ],
   "id": "initial_id",
   "outputs": [],
   "execution_count": 43
  },
  {
   "metadata": {
    "ExecuteTime": {
     "end_time": "2025-01-21T00:54:25.640907Z",
     "start_time": "2025-01-21T00:54:25.634603Z"
    }
   },
   "cell_type": "code",
   "source": [
    "roaches = (1, 2, 3, 4, 5)\n",
    "# time = 0.05244  # Seconds\n",
    "time = 0.05246  # Seconds\n",
    "print(f'{len(master_time)=}')\n",
    "for roach in roaches:\n",
    "    starting_tdiff = master_time[int(time * 100)] - ctime(roach)[int(time * 476.5)]\n",
    "    print(f'{roach=}, {starting_tdiff=}')\n",
    "\n",
    "# Roach 3 is 5 seconds off until the 25th index, then it matches?"
   ],
   "id": "b422f9e33389b179",
   "outputs": [
    {
     "name": "stdout",
     "output_type": "stream",
     "text": [
      "len(master_time)=9830900\n",
      "roach=1, starting_tdiff=np.float64(-42.17490291595459)\n",
      "roach=2, starting_tdiff=np.float64(-42.35490298271179)\n",
      "roach=3, starting_tdiff=np.float64(-37.54666304588318)\n",
      "roach=4, starting_tdiff=np.float64(-42.272854804992676)\n",
      "roach=5, starting_tdiff=np.float64(-42.332854986190796)\n"
     ]
    }
   ],
   "execution_count": 107
  },
  {
   "metadata": {
    "ExecuteTime": {
     "end_time": "2025-01-21T00:55:07.853773Z",
     "start_time": "2025-01-21T00:55:06.445935Z"
    }
   },
   "cell_type": "code",
   "source": [
    "for roach in roaches:\n",
    "    isnan = np.isnan(ctime(roach))\n",
    "    # plt.plot(isnan)\n",
    "    # plt.show()\n",
    "    nan_ct = np.count_nonzero(isnan)\n",
    "    print(f'{roach=}, {nan_ct=}, NaN%={100*nan_ct/len(isnan):.4f}')"
   ],
   "id": "e4f89d63384b964",
   "outputs": [
    {
     "name": "stdout",
     "output_type": "stream",
     "text": [
      "roach=1, nan_ct=627, NaN%=0.0013\n",
      "roach=2, nan_ct=52998, NaN%=0.1139\n",
      "roach=3, nan_ct=0, NaN%=0.0000\n",
      "roach=4, nan_ct=0, NaN%=0.0000\n",
      "roach=5, nan_ct=45248, NaN%=0.0972\n"
     ]
    }
   ],
   "execution_count": 109
  },
  {
   "metadata": {
    "ExecuteTime": {
     "end_time": "2025-01-21T00:48:03.652726Z",
     "start_time": "2025-01-21T00:48:02.070135Z"
    }
   },
   "cell_type": "code",
   "source": [
    "master_diff = np.diff(master_time)\n",
    "master_dt = np.nanmean(master_diff)\n",
    "print(f'master time, {master_dt=}, {1/master_dt=}')\n",
    "for roach in roaches:\n",
    "    diff = np.diff(ctime(roach))\n",
    "    dt = np.nanmean(diff)\n",
    "    print(f'{roach=}, {dt=}, {1/dt=}')"
   ],
   "id": "c00b13c29cc78f81",
   "outputs": [
    {
     "name": "stdout",
     "output_type": "stream",
     "text": [
      "master time, master_dt=np.float64(0.010000020078320739), 1/master_dt=np.float64(99.99979921719574)\n",
      "roach=1, dt=np.float64(0.002100406674123139), 1/dt=np.float64(476.098277690663)\n",
      "roach=2, dt=np.float64(0.0020985517512356017), 1/dt=np.float64(476.5191039064022)\n",
      "roach=3, dt=np.float64(0.0020985746722360153), 1/dt=np.float64(476.51389928122387)\n",
      "roach=4, dt=np.float64(0.0020986398836746814), 1/dt=np.float64(476.4990924736538)\n",
      "roach=5, dt=np.float64(0.0020986436085360595), 1/dt=np.float64(476.49824674021954)\n"
     ]
    }
   ],
   "execution_count": 74
  },
  {
   "metadata": {
    "ExecuteTime": {
     "end_time": "2025-01-21T00:17:17.735589Z",
     "start_time": "2025-01-21T00:17:17.726190Z"
    }
   },
   "cell_type": "code",
   "source": [
    "slice_i = {1:37125750, 3:37141250}  # already determined by James\n",
    "\n",
    "print('Roach 1, 1st sliced timestamp: ' + str(ctime(1)[slice_i[1]]))\n",
    "print('Roach 1, 2nd sliced timestamp: ' + str(ctime(3)[slice_i[3]]))"
   ],
   "id": "3151568dd831e8ff",
   "outputs": [
    {
     "name": "stdout",
     "output_type": "stream",
     "text": [
      "Roach 1, 1st sliced timestamp: 1578321114.2931795\n",
      "Roach 1, 2nd sliced timestamp: 1578321152.9689555\n"
     ]
    }
   ],
   "execution_count": 55
  },
  {
   "metadata": {},
   "cell_type": "code",
   "outputs": [],
   "execution_count": null,
   "source": "",
   "id": "f87c6d7b36d38278"
  }
 ],
 "metadata": {
  "kernelspec": {
   "display_name": "Python 3",
   "language": "python",
   "name": "python3"
  },
  "language_info": {
   "codemirror_mode": {
    "name": "ipython",
    "version": 2
   },
   "file_extension": ".py",
   "mimetype": "text/x-python",
   "name": "python",
   "nbconvert_exporter": "python",
   "pygments_lexer": "ipython2",
   "version": "2.7.6"
  }
 },
 "nbformat": 4,
 "nbformat_minor": 5
}
