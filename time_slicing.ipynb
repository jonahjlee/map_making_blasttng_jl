{
 "cells": [
  {
   "cell_type": "code",
   "id": "906fcc4621bdaf0b",
   "metadata": {
    "ExecuteTime": {
     "end_time": "2025-01-21T19:52:43.903969Z",
     "start_time": "2025-01-21T19:52:42.716316Z"
    }
   },
   "source": [
    "import os\n",
    "import numpy as np\n",
    "import matplotlib.pyplot as plt"
   ],
   "outputs": [],
   "execution_count": 1
  },
  {
   "metadata": {
    "ExecuteTime": {
     "end_time": "2025-01-21T19:52:47.473707Z",
     "start_time": "2025-01-21T19:52:44.964159Z"
    }
   },
   "cell_type": "code",
   "source": "time_data = np.load('time_data.npy', allow_pickle=True).item()",
   "id": "ffb516c01af8c6d4",
   "outputs": [],
   "execution_count": 2
  },
  {
   "metadata": {
    "collapsed": true,
    "ExecuteTime": {
     "end_time": "2025-01-21T19:52:48.225702Z",
     "start_time": "2025-01-21T19:52:48.156608Z"
    }
   },
   "cell_type": "code",
   "source": [
    "master_time = time_data['time'] + time_data['time_usec'] / 1_000_000  # Master time: 100Hz\n",
    "ctime = lambda r: time_data[f'roach{r}_time']  # Roach time: 476.5Hz"
   ],
   "id": "initial_id",
   "outputs": [],
   "execution_count": 3
  },
  {
   "metadata": {
    "ExecuteTime": {
     "end_time": "2025-01-21T19:52:48.668449Z",
     "start_time": "2025-01-21T19:52:48.662760Z"
    }
   },
   "cell_type": "code",
   "source": [
    "roaches = (1, 2, 3, 4, 5)\n",
    "# time = 0.05244  # Seconds\n",
    "time = 0.05246  # Seconds\n",
    "print(f'{len(master_time)=}')\n",
    "for roach in roaches:\n",
    "    starting_tdiff = master_time[int(time * 100)] - ctime(roach)[int(time * 476.5)]\n",
    "    print(f'{roach=}, {starting_tdiff=}')\n",
    "\n",
    "# Roach 3 is 5 seconds off until the 25th index, then it matches?"
   ],
   "id": "b422f9e33389b179",
   "outputs": [
    {
     "name": "stdout",
     "output_type": "stream",
     "text": [
      "len(master_time)=9830900\n",
      "roach=1, starting_tdiff=np.float64(-42.17490291595459)\n",
      "roach=2, starting_tdiff=np.float64(-42.35490298271179)\n",
      "roach=3, starting_tdiff=np.float64(-37.54666304588318)\n",
      "roach=4, starting_tdiff=np.float64(-42.272854804992676)\n",
      "roach=5, starting_tdiff=np.float64(-42.332854986190796)\n"
     ]
    }
   ],
   "execution_count": 4
  },
  {
   "metadata": {
    "ExecuteTime": {
     "end_time": "2025-01-21T19:52:49.442870Z",
     "start_time": "2025-01-21T19:52:49.246719Z"
    }
   },
   "cell_type": "code",
   "source": [
    "for roach in roaches:\n",
    "    isnan = np.isnan(ctime(roach))\n",
    "    # plt.plot(isnan)\n",
    "    # plt.show()\n",
    "    nan_ct = np.count_nonzero(isnan)\n",
    "    print(f'{roach=}, {nan_ct=}, NaN%={100*nan_ct/len(isnan):.4f}')"
   ],
   "id": "e4f89d63384b964",
   "outputs": [
    {
     "name": "stdout",
     "output_type": "stream",
     "text": [
      "roach=1, nan_ct=627, NaN%=0.0013\n",
      "roach=2, nan_ct=52998, NaN%=0.1139\n",
      "roach=3, nan_ct=0, NaN%=0.0000\n",
      "roach=4, nan_ct=0, NaN%=0.0000\n",
      "roach=5, nan_ct=45248, NaN%=0.0972\n"
     ]
    }
   ],
   "execution_count": 5
  },
  {
   "metadata": {
    "ExecuteTime": {
     "end_time": "2025-01-21T19:52:51.793798Z",
     "start_time": "2025-01-21T19:52:49.671454Z"
    }
   },
   "cell_type": "code",
   "source": [
    "master_diff = np.diff(master_time)\n",
    "master_dt = np.nanmean(master_diff)\n",
    "print(f'master time, {master_dt=}, {1/master_dt=}')\n",
    "for roach in roaches:\n",
    "    diff = np.diff(ctime(roach))\n",
    "    dt = np.nanmean(diff)\n",
    "    print(f'{roach=}, {dt=}, {1/dt=}')"
   ],
   "id": "c00b13c29cc78f81",
   "outputs": [
    {
     "name": "stdout",
     "output_type": "stream",
     "text": [
      "master time, master_dt=np.float64(0.010000020078320739), 1/master_dt=np.float64(99.99979921719574)\n",
      "roach=1, dt=np.float64(0.002100406674123139), 1/dt=np.float64(476.098277690663)\n",
      "roach=2, dt=np.float64(0.0020985517512356017), 1/dt=np.float64(476.5191039064022)\n",
      "roach=3, dt=np.float64(0.0020985746722360153), 1/dt=np.float64(476.51389928122387)\n",
      "roach=4, dt=np.float64(0.0020986398836746814), 1/dt=np.float64(476.4990924736538)\n",
      "roach=5, dt=np.float64(0.0020986436085360595), 1/dt=np.float64(476.49824674021954)\n"
     ]
    }
   ],
   "execution_count": 6
  },
  {
   "metadata": {
    "ExecuteTime": {
     "end_time": "2025-01-21T19:52:51.813381Z",
     "start_time": "2025-01-21T19:52:51.799308Z"
    }
   },
   "cell_type": "code",
   "source": [
    "slice_i = {1:37125750, 3:37141250}  # already determined by James\n",
    "\n",
    "print('Roach 1, 1st sliced timestamp: ' + str(ctime(1)[slice_i[1]]))\n",
    "print('Roach 1, 2nd sliced timestamp: ' + str(ctime(3)[slice_i[3]]))"
   ],
   "id": "3151568dd831e8ff",
   "outputs": [
    {
     "name": "stdout",
     "output_type": "stream",
     "text": [
      "Roach 1, 1st sliced timestamp: 1578321114.2931795\n",
      "Roach 1, 2nd sliced timestamp: 1578321152.9689555\n"
     ]
    }
   ],
   "execution_count": 7
  },
  {
   "metadata": {
    "ExecuteTime": {
     "end_time": "2025-01-21T20:00:18.050524Z",
     "start_time": "2025-01-21T20:00:16.135618Z"
    }
   },
   "cell_type": "code",
   "source": [
    "rtime = lambda r: time_data[f'roach{r}_time'] - 1578244880.069792 # Relative Roach time: 476.5Hz\n",
    "\n",
    "print(f'{master_time[0]=}, {master_time[-1]=}, timespan={master_time[-1] - master_time[0]}')\n",
    "for roach in roaches:\n",
    "    print(f'{rtime(roach)[0]=}, {rtime(roach)[-1]=}, timespan={rtime(roach)[-1] - rtime(roach)[0]}')"
   ],
   "id": "f87c6d7b36d38278",
   "outputs": [
    {
     "name": "stdout",
     "output_type": "stream",
     "text": [
      "master_time[0]=np.float64(1578244880.069792), master_time[-1]=np.float64(1578343189.25718), timespan=98309.18738794327\n",
      "rtime(roach)[0]=np.float64(42.08502388000488), rtime(roach)[-1]=np.float64(97736.52020788193), timespan=97694.43518400192\n",
      "rtime(roach)[0]=np.float64(42.265023946762085), rtime(roach)[-1]=np.float64(97687.02020788193), timespan=97644.75518393517\n",
      "rtime(roach)[0]=np.float64(37.510032176971436), rtime(roach)[-1]=np.float64(97687.61020803452), timespan=97650.10017585754\n",
      "rtime(roach)[0]=np.float64(42.18297576904297), rtime(roach)[-1]=np.float64(97687.97020792961), timespan=97645.78723216057\n",
      "rtime(roach)[0]=np.float64(42.24297595024109), rtime(roach)[-1]=np.float64(97687.12020802498), timespan=97644.87723207474\n"
     ]
    }
   ],
   "execution_count": 17
  },
  {
   "metadata": {
    "ExecuteTime": {
     "end_time": "2025-01-21T21:40:19.286744Z",
     "start_time": "2025-01-21T21:40:19.208635Z"
    }
   },
   "cell_type": "code",
   "source": [
    "rcw92_start = 1578323350.770619\n",
    "rcw92_end = 1578324441.3818192\n",
    "\n",
    "sliced = ctime(2)[38_212_940:38_212_945]\n",
    "\n",
    "diff = np.abs(sliced - rcw92_start)\n",
    "plt.plot(diff)\n",
    "plt.show()\n",
    "# closest_index = np.argmin()\n",
    "# ltltctime(2)[closest_index-1]"
   ],
   "id": "a6dbd1fed92ed448",
   "outputs": [
    {
     "data": {
      "text/plain": [
       "<Figure size 640x480 with 1 Axes>"
      ],
      "image/png": "[encoded data removed]"
     },
     "metadata": {},
     "output_type": "display_data"
    }
   ],
   "execution_count": 45
  },
  {
   "metadata": {
    "ExecuteTime": {
     "end_time": "2025-01-21T23:01:10.044863Z",
     "start_time": "2025-01-21T23:01:10.035752Z"
    }
   },
   "cell_type": "code",
   "source": [
    "x_um = np.load('roach2_x_um.npy', allow_pickle=True)\n",
    "y_um = np.load('roach2_y_um.npy', allow_pickle=True)"
   ],
   "id": "3325388a5b194560",
   "outputs": [],
   "execution_count": 46
  },
  {
   "metadata": {
    "ExecuteTime": {
     "end_time": "2025-01-21T23:04:01.103885Z",
     "start_time": "2025-01-21T23:04:01.007861Z"
    }
   },
   "cell_type": "code",
   "source": [
    "# plt.plot(x_um, y_um)\n",
    "# plt.show()\n",
    "\n",
    "start_cutoff = 100000\n",
    "end_cutoff = -100000\n",
    "plt.plot(x_um[start_cutoff:end_cutoff], y_um[start_cutoff:end_cutoff])\n",
    "plt.show()"
   ],
   "id": "94652d797d1116b6",
   "outputs": [
    {
     "data": {
      "text/plain": [
       "<Figure size 640x480 with 1 Axes>"
      ],
      "image/png": "[encoded data removed]"
     },
     "metadata": {},
     "output_type": "display_data"
    }
   ],
   "execution_count": 65
  },
  {
   "metadata": {},
   "cell_type": "code",
   "outputs": [],
   "execution_count": null,
   "source": "",
   "id": "a19e2111574ef7f0"
  }
 ],
 "metadata": {
  "kernelspec": {
   "display_name": "Python 3",
   "language": "python",
   "name": "python3"
  },
  "language_info": {
   "codemirror_mode": {
    "name": "ipython",
    "version": 2
   },
   "file_extension": ".py",
   "mimetype": "text/x-python",
   "name": "python",
   "nbconvert_exporter": "python",
   "pygments_lexer": "ipython2",
   "version": "2.7.6"
  }
 },
 "nbformat": 4,
 "nbformat_minor": 5
}
